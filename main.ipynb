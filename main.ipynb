{
 "cells": [
  {
   "cell_type": "code",
   "execution_count": null,
   "metadata": {},
   "outputs": [],
   "source": [
    "%matplotlib inline\n",
    "import matplotlib as mpl\n",
    "import matplotlib.pyplot as plt\n",
    "from Bio import Phylo\n",
    "from Bio import SeqIO"
   ]
  },
  {
   "cell_type": "code",
   "execution_count": null,
   "metadata": {},
   "outputs": [],
   "source": [
    "# Read the newick tree\n",
    "tree = Phylo.read(\"tree.nwk\", \"newick\")\n",
    "# Reset plotting font size and figure size\n",
    "mpl.rcParams.update({'font.size': 25})\n",
    "plt.rcParams['figure.figsize'] = [35, 60]\n",
    "# Draw\n",
    "Phylo.draw(tree)"
   ]
  },
  {
   "cell_type": "code",
   "execution_count": null,
   "metadata": {},
   "outputs": [],
   "source": [
    "# Load the unaligned, raw sequence file\n",
    "raw_seq = []\n",
    "for seq_rec in SeqIO.parse(\"seqs.fa\", \"fasta\"):\n",
    "    raw_seq.append(seq_rec)"
   ]
  },
  {
   "cell_type": "code",
   "execution_count": null,
   "metadata": {},
   "outputs": [],
   "source": [
    "def specimen(*args):\n",
    "    # This function picks representative specimens from the tree\n",
    "    seq_to_show = []\n",
    "    for arg in args:\n",
    "        for seq in raw_seq:\n",
    "            if seq.id == arg:\n",
    "                seq_to_show.append(str(seq.seq))\n",
    "                break\n",
    "    return seq_to_show\n",
    "\n",
    "specimen(\"rh.61\", \"rh.58\", \"hu.39\", \"bb.1\", \"cy.2\")"
   ]
  },
  {
   "cell_type": "markdown",
   "metadata": {},
   "source": [
    "### Cluster 0\n",
    "Specimen #0 is named rh.61. The most common match for its cluster is the capsid protein VP1 gene in Adeno-associated virus \n",
    "isolate. The top three matches are isolate rh.61, rh.64R1, and rh.46. The mathces are the same gene. There is one match to\n",
    "Arthrobacter sp.LS16 complete genome which is different from most others."
   ]
  },
  {
   "cell_type": "markdown",
   "metadata": {},
   "source": [
    "### Cluster 1\n",
    "Specimen #1 is named rh.58. The most common match for its cluster is the capsid protein VP1 gene in Adeno-associated virus \n",
    "isolate. The top three matches are isolate rh.58, rh.64R1, and rh.46. The mathces are the same gene. There is one match to\n",
    "Arthrobacter sp.LS16 complete genome which is different from most others."
   ]
  },
  {
   "cell_type": "markdown",
   "metadata": {},
   "source": [
    "### Cluster 2\n",
    "Specimen #2 is named hu.39. The most common match for its cluster is the capsid protein VP1 gene in Adeno-associated virus \n",
    "isolate. The top three matches are isolate hu.39, rh.64R1, and rh.46. The mathces are the same gene. There is one match to\n",
    "Arthrobacter sp.LS16 complete genome which is different from most others."
   ]
  },
  {
   "cell_type": "markdown",
   "metadata": {},
   "source": [
    "### Cluster 3\n",
    "Specimen #3 is named bb.1. The most common match for its cluster is the capsid protein VP1 gene in non-human primate\n",
    "Adeno-associated virus isolate. The top three matches are isolate bb.1, bb.2, and rh.10. The mathces are the same\n",
    "gene. There is one match to Arthrobacter sp.LS16 complete genome which is different from most others."
   ]
  },
  {
   "cell_type": "markdown",
   "metadata": {},
   "source": [
    "### Cluster 4\n",
    "Specimen #4 is named cy.2. The most common match for its cluster is the capsid protein VP1 gene in Adeno-associated virus\n",
    "isolate. The top three matches are isolate cy.2, AAV 7, and Anc113. The mathces are the same gene. There is one match to \n",
    "Arthrobacter sp.LS16 complete genome which is different from most others."
   ]
  },
  {
   "cell_type": "markdown",
   "metadata": {},
   "source": [
    "**Q: Why might we not trust the annotations for sequences that come up in our BLAST?**\n",
    "<br>\n",
    "A: Although the specimen of interest is a type of virus which does not have complex mRNA modification mechanism, the same gene can be expressed as different proteins in different eukaryotic organisms. The same gene sequence does not necessarily result in the same protein product. In addition, proteins often have various domains. The function of one domain does not necessarily disctate the function of the overall protein. Conversely, the function of a protein does not disclose the biochemical properties of its sub-domains.\n",
    "<br>\n",
    "We also have no control over the quality of the annotation database. Although NCBI is trustworthy, "
   ]
  },
  {
   "cell_type": "code",
   "execution_count": null,
   "metadata": {},
   "outputs": [],
   "source": [
    "# Clusters determined by eyeballing the tree graph\n",
    "cluster0 = [\"rh.61\"]\n",
    "cluster1 = [\"rh.58\"]\n",
    "cluster2 = [\"hu.39\", \"rh.64\", \"rh.57\", \"rh.51\", \"rh.49\", \"rh.53\", \"rh.50\", \"rh.52\"]\n",
    "cluster3 = [\"bb.1\", \"pi.2\", \"pi.3\", \"pi.1\", \"rh.10\", \"bb.2\", \"hu.17\", \"hu.6\", \"rh.2\", \"rh.40\", \"hu.67\", \"hu.37\", \"hu.40\",\n",
    "           \"hu.66\", \"hu.41\", \"rh.38\", \"hu.42\"]\n",
    "cluster4 = [\"cy.2\", \"cy.3\", \"cy.6\", \"cy.4\", \"cy.5\", \"rh.13\", \"rh.35\", \"rh.36\", \"rh.37\", \"rh.54\", \"rh.55\", \"rh.48\", \"rh.62\",\n",
    "           \"hu.43\", \"hu.48\", \"hu.44\", \"hu.46\", \"hu.14\", \"hu.31\", \"hu.32\", \"rh.43\"]"
   ]
  },
  {
   "cell_type": "code",
   "execution_count": null,
   "metadata": {},
   "outputs": [],
   "source": [
    "# Load the aligned sequence file\n",
    "aligned_seq = []\n",
    "for seq_rec in SeqIO.parse(\"seqs.aligned.fa\",\"fasta\"):\n",
    "    aligned_seq.append(seq_rec)"
   ]
  },
  {
   "cell_type": "code",
   "execution_count": null,
   "metadata": {},
   "outputs": [],
   "source": [
    "def clust_grouper(*args):\n",
    "    # This function takes in a list of specimen ids and returns a list of the corresponding Bio.Seq objects from aligned_seq\n",
    "    ls = []\n",
    "    for arg in args:\n",
    "        for obj in aligned_seq:\n",
    "            if obj.id == arg:\n",
    "                ls.append(obj)\n",
    "                break\n",
    "    return ls\n",
    "\n",
    "cl0 = clust_grouper(*cluster0)\n",
    "cl1 = clust_grouper(*cluster1)\n",
    "cl2 = clust_grouper(*cluster2)\n",
    "cl3 = clust_grouper(*cluster3)\n",
    "cl4 = clust_grouper(*cluster4)"
   ]
  },
  {
   "cell_type": "code",
   "execution_count": null,
   "metadata": {},
   "outputs": [],
   "source": [
    "def ATGC_by_cluster(clust):\n",
    "    # ATGC_by_cluster() returns a tuple value which is composed of two lists--a list of %AT and a list of %CG. \n",
    "    # The individual value within either list is calculated based on the GC or AT content at a particular position \n",
    "    # across every sequence in a user-defined cluster.\n",
    "    # The parameter, clust, is a list of all the Bio.Seq objects within a user-defined cluster.\n",
    "\n",
    "    # Initialization\n",
    "    length = len(clust[0].seq)\n",
    "    percent_AT = [0]*length\n",
    "    percent_GC = [0]*length\n",
    "    # The outer loop is incremented based on position\n",
    "    for pos in range(length):\n",
    "        GC_count = 0\n",
    "        AT_count = 0\n",
    "        #The inner loop looks through the particular position across every sequence in the cluster\n",
    "        for obj in clust:\n",
    "            if obj.seq[pos] == \"C\" or obj.seq[pos] == \"G\":\n",
    "                GC_count += 1\n",
    "            elif obj.seq[pos] == \"A\" or obj.seq[pos] == \"T\":\n",
    "                AT_count += 1\n",
    "        # This if statement takes care of the occurrence of alignment gaps\n",
    "        if GC_count + AT_count == 0:\n",
    "            percent_AT[pos] = 0\n",
    "            percent_GC[pos] = 0\n",
    "        # Otherwise, there is at least one identifiable nucleotide at this position. Proceed to calculate the percent normally.\n",
    "        else:\n",
    "            percent_AT[pos] = AT_count/(AT_count + GC_count)\n",
    "            percent_GC[pos] = GC_count/(AT_count + GC_count)\n",
    "    return percent_AT, percent_GC\n",
    "\n",
    "clust0_AT, clust0_GC = ATGC_by_cluster(cl0)\n",
    "clust1_AT, clust1_GC = ATGC_by_cluster(cl1)\n",
    "clust2_AT, clust2_GC = ATGC_by_cluster(cl2)\n",
    "clust3_AT, clust3_GC = ATGC_by_cluster(cl3)\n",
    "clust4_AT, clust4_GC = ATGC_by_cluster(cl4)"
   ]
  },
  {
   "cell_type": "code",
   "execution_count": null,
   "metadata": {},
   "outputs": [],
   "source": [
    "# Reset the plt output figure size\n",
    "plt.rcParams['figure.figsize'] = [10, 10]\n",
    "p1 = plt.bar(x = range(len(clust0_GC)), height = clust0_GC, color = \"cyan\")\n",
    "p2 = plt.bar(x = range(len(clust0_AT)), height = clust0_AT, bottom = clust0_GC, color = \"magenta\")\n",
    "px = plt.xlabel(\"Position in the cluster genome\")\n",
    "py = plt.ylabel(\"GC (cyan) or AT (magenta) content (%)\")\n",
    "# Zoom in on position 0 to 50; to see the entire length of the cluster sequences, comment out the line below\n",
    "# p3 = plt.axis([-0.5, 50.5, 0, 1])"
   ]
  },
  {
   "cell_type": "code",
   "execution_count": null,
   "metadata": {},
   "outputs": [],
   "source": [
    "p1 = plt.bar(x = range(len(clust1_GC)), height = clust1_GC, color = \"cyan\")\n",
    "p2 = plt.bar(x = range(len(clust1_AT)), height = clust1_AT, bottom = clust1_GC, color = \"magenta\")\n",
    "px = plt.xlabel(\"Position in the cluster genome\")\n",
    "py = plt.ylabel(\"GC (cyan) or AT (magenta) content (%)\")\n",
    "# Zoom in on position 0 to 50; to see the entire length of the cluster sequences, comment out the line below\n",
    "# p3 = plt.axis([-0.5, 50.5, 0, 1])"
   ]
  },
  {
   "cell_type": "code",
   "execution_count": null,
   "metadata": {},
   "outputs": [],
   "source": [
    "p1 = plt.bar(x = range(len(clust2_GC)), height = clust2_GC, color = \"cyan\")\n",
    "p2 = plt.bar(x = range(len(clust2_AT)), height = clust2_AT, bottom = clust2_GC, color = \"magenta\")\n",
    "px = plt.xlabel(\"Position in the cluster genome\")\n",
    "py = plt.ylabel(\"GC (cyan) or AT (magenta) content (%)\")\n",
    "# Zoom in on position 0 to 50; to see the entire length of the cluster sequences, comment out the line below\n",
    "# p3 = plt.axis([-0.5, 50.5, 0, 1])"
   ]
  },
  {
   "cell_type": "code",
   "execution_count": null,
   "metadata": {},
   "outputs": [],
   "source": [
    "p1 = plt.bar(x = range(len(clust3_GC)), height = clust3_GC, color = \"cyan\")\n",
    "p2 = plt.bar(x = range(len(clust3_AT)), height = clust3_AT, bottom = clust3_GC, color = \"magenta\")\n",
    "px = plt.xlabel(\"Position in the cluster genome\")\n",
    "py = plt.ylabel(\"GC (cyan) or AT (magenta) content (%)\")\n",
    "# Zoom in on position 0 to 50; to see the entire length of the cluster sequences, comment out the line below\n",
    "# p3 = plt.axis([-0.5, 50.5, 0, 1])"
   ]
  },
  {
   "cell_type": "code",
   "execution_count": null,
   "metadata": {},
   "outputs": [],
   "source": [
    "p1 = plt.bar(x = range(len(clust4_GC)), height = clust4_GC, color = \"cyan\")\n",
    "p2 = plt.bar(x = range(len(clust4_AT)), height = clust4_AT, bottom = clust4_GC, color = \"magenta\")\n",
    "px = plt.xlabel(\"Position in the cluster genome\")\n",
    "py = plt.ylabel(\"GC (cyan) or AT (magenta) content (%)\")\n",
    "# Zoom in on position 0 to 50; to see the entire length of the cluster sequences, comment out the line below\n",
    "# p3 = plt.axis([-0.5, 50.5, 0, 1])"
   ]
  },
  {
   "cell_type": "code",
   "execution_count": null,
   "metadata": {},
   "outputs": [],
   "source": [
    "def cluster_raw_seq_grouper(*args):\n",
    "    # This function takes in a list of specimen ids and returns a list of Bio.Seq objects.\n",
    "    ls = []\n",
    "    for arg in args:\n",
    "        for obj in raw_seq:\n",
    "            if obj.id == arg:\n",
    "                ls.append(obj)\n",
    "                break\n",
    "    return ls\n",
    "\n",
    "# Output the files of each visually determined cluster\n",
    "cl0 = cluster_raw_seq_grouper(*cluster0)\n",
    "cl1 = cluster_raw_seq_grouper(*cluster1)\n",
    "cl2 = cluster_raw_seq_grouper(*cluster2)\n",
    "cl3 = cluster_raw_seq_grouper(*cluster3)\n",
    "cl4 = cluster_raw_seq_grouper(*cluster4)"
   ]
  },
  {
   "cell_type": "code",
   "execution_count": null,
   "metadata": {},
   "outputs": [],
   "source": [
    "def cluster_length(clust):\n",
    "    # This function takes in a lsit of Bio.Seq objects and returns a list of integers that denotes the length of each \n",
    "    # sequence in the list.\n",
    "    ls_len = []\n",
    "    ptr = 0\n",
    "    for seq in clust:\n",
    "        ls_len.append(len(seq))\n",
    "    return ls_len\n",
    "\n",
    "clust0_len = cluster_length(cl0)\n",
    "clust1_len = cluster_length(cl1)\n",
    "clust2_len = cluster_length(cl2)\n",
    "clust3_len = cluster_length(cl3)\n",
    "clust4_len = cluster_length(cl4)"
   ]
  },
  {
   "cell_type": "code",
   "execution_count": null,
   "metadata": {},
   "outputs": [],
   "source": [
    "# Plot the box plot for cluter sequence length\n",
    "plt.rcParams['figure.figsize'] = [10, 8]\n",
    "b1 = plt.boxplot([clust0_len, clust1_len, clust2_len, clust3_len, clust4_len], \n",
    "                 labels = [\"clust0\", \"clust1\", \"clust2\", \"clust3\", \"clust4\"])"
   ]
  }
 ],
 "metadata": {
  "kernelspec": {
   "display_name": "Python 3",
   "language": "python",
   "name": "python3"
  },
  "language_info": {
   "codemirror_mode": {
    "name": "ipython",
    "version": 3
   },
   "file_extension": ".py",
   "mimetype": "text/x-python",
   "name": "python",
   "nbconvert_exporter": "python",
   "pygments_lexer": "ipython3",
   "version": "3.6.5"
  }
 },
 "nbformat": 4,
 "nbformat_minor": 2
}
